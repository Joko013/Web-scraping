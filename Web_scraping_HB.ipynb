{
 "cells": [
  {
   "cell_type": "code",
   "execution_count": 1,
   "metadata": {
    "collapsed": true
   },
   "outputs": [],
   "source": [
    "import csv\n",
    "import requests\n",
    "from bs4 import BeautifulSoup\n",
    "from selenium import webdriver\n",
    "import unicodedata"
   ]
  },
  {
   "cell_type": "code",
   "execution_count": 2,
   "metadata": {
    "collapsed": true,
    "scrolled": true
   },
   "outputs": [],
   "source": [
    "\n",
    "#SREALITY\n",
    "\n",
    "lokalita2 = []\n",
    "cena2 = []\n",
    "velikost2 = []\n",
    "odkaz2 = []\n",
    "identifier2 = []\n",
    "\n",
    "cnt_appended = 0\n",
    "\n",
    "try:\n",
    "    with open('data_sreality_hb.csv', newline='') as csvfile:\n",
    "        spamreader = csv.reader(csvfile, delimiter=';', quotechar='|')\n",
    "        for row in spamreader:\n",
    "            lokalita2.append(row[0])\n",
    "            cena2.append(row[1])\n",
    "            velikost2.append(row[2])\n",
    "            odkaz2.append(row[3])\n",
    "            identifier2.append(row[4])\n",
    "except FileNotFoundError:\n",
    "    pass\n",
    "\n",
    "for i in range(1,11):\n",
    "    driver = webdriver.Chrome()\n",
    "    url = \"https://www.sreality.cz/hledani/prodej/domy/havlickuv-brod?cena-od=0&cena-do=3000000&strana=\"+str(i)\n",
    "    driver.get(url)\n",
    "    soup = BeautifulSoup(driver.page_source,\"html.parser\")\n",
    "    driver.quit()\n",
    "    \n",
    "    #pro kazdou stranku najdu lokalitu, cenu, velikost, id\n",
    "    for title in soup.select(\".text-wrap\"):\n",
    "    #num = \"https://www.sreality.cz\" + title.select_one(\".title\").get('href')\n",
    "    #print(num)\n",
    "        size_2 =  title.select_one('h2  span').get_text().replace('\\xb2','2')\n",
    "        loc_2 =  title.select_one(\"span [class='locality ng-binding']\").get_text()\n",
    "        price_2 = title.select_one(\"span [class='norm-price ng-binding']\").get_text()\n",
    "        link_2 = \"https://www.sreality.cz\" + title.select_one(\".title\").get('href')\n",
    "        id_2 = link_2[link_2.rfind(\"/\")+1:]\n",
    "        \n",
    "        #zkontroluju, jestli uz id neni v predchozich datech, kdyz ne, pridam do listu\n",
    "        if id_2 not in identifier2:\n",
    "            lokalita2.append(loc_2)\n",
    "            cena2.append(price_2)\n",
    "            velikost2.append(size_2)\n",
    "            odkaz2.append(link_2)\n",
    "            identifier2.append(id_2)\n",
    "            cnt_appended = cnt_appended+1  \n",
    "            \n",
    "            \n",
    "#export dat do csv\n",
    "with open('data_sreality_hb.csv', 'w') as csvfile:\n",
    "        for (loc,cen,vel,odk,ide) in zip(lokalita2, cena2,velikost2,odkaz2,identifier2):\n",
    "            csvfile.write(loc+';'+str(cen)+';'+vel+';'+odk+';'+str(ide)+'\\n')              "
   ]
  },
  {
   "cell_type": "code",
   "execution_count": 3,
   "metadata": {
    "scrolled": true
   },
   "outputs": [
    {
     "data": {
      "text/plain": [
       "29"
      ]
     },
     "execution_count": 3,
     "metadata": {},
     "output_type": "execute_result"
    }
   ],
   "source": [
    "cnt_appended"
   ]
  },
  {
   "cell_type": "code",
   "execution_count": 50,
   "metadata": {},
   "outputs": [
    {
     "data": {
      "text/plain": [
       "'Prodej  rodinného domu 80\\xa0m², pozemek 1\\xa0065\\xa0m²'"
      ]
     },
     "execution_count": 50,
     "metadata": {},
     "output_type": "execute_result"
    }
   ],
   "source": [
    "title.select_one('h2  span').get_text(strip=True)"
   ]
  }
 ],
 "metadata": {
  "kernelspec": {
   "display_name": "Python 3",
   "language": "python",
   "name": "python3"
  },
  "language_info": {
   "codemirror_mode": {
    "name": "ipython",
    "version": 3
   },
   "file_extension": ".py",
   "mimetype": "text/x-python",
   "name": "python",
   "nbconvert_exporter": "python",
   "pygments_lexer": "ipython3",
   "version": "3.6.1"
  }
 },
 "nbformat": 4,
 "nbformat_minor": 2
}
